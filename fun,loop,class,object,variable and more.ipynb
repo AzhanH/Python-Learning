{
 "cells": [
  {
   "cell_type": "code",
   "execution_count": 15,
   "metadata": {},
   "outputs": [
    {
     "name": "stdout",
     "output_type": "stream",
     "text": [
      "55\n",
      "60\n",
      "0.019834710743801654\n"
     ]
    }
   ],
   "source": [
    "height = int(input())\n",
    "weight =int(input())\n",
    "bmi = weight/ (height**2)\n",
    "print(bmi)"
   ]
  },
  {
   "cell_type": "code",
   "execution_count": 6,
   "metadata": {},
   "outputs": [
    {
     "name": "stdout",
     "output_type": "stream",
     "text": [
      "1\n"
     ]
    }
   ],
   "source": [
    "a = 5\n",
    "b = 5\n",
    "if a == b:\n",
    "    print(\"a is equal to b\")\n",
    "    print(1)\n",
    "elif b != a:\n",
    "    print(\"b is not equal to a\")\n",
    "else:\n",
    "    print(\"both are different\")\n",
    "        "
   ]
  },
  {
   "cell_type": "code",
   "execution_count": 1,
   "metadata": {},
   "outputs": [
    {
     "name": "stdout",
     "output_type": "stream",
     "text": [
      "this is outside function\n"
     ]
    }
   ],
   "source": [
    "def function1():\n",
    "    print(1)\n",
    "    print(2)\n",
    "    print(3)\n",
    "print(\"this is outside function\")"
   ]
  },
  {
   "cell_type": "code",
   "execution_count": 6,
   "metadata": {},
   "outputs": [
    {
     "name": "stdout",
     "output_type": "stream",
     "text": [
      "6\n",
      "6\n",
      "0.16666666666666666\n"
     ]
    }
   ],
   "source": [
    "# BMI calculator\n",
    "height = int(input())\n",
    "weight =int(input())\n",
    "bmi = weight/ (height**2)\n",
    "print(bmi)\n",
    "def BMIcalculator():\n",
    "    height = int(input(\"Enter your height\"))\n",
    "    weight = int(input(\"Enter your weight\"))\n",
    "    bmi = weight/ (height**2)\n",
    "    print(bmi)\n",
    "    \n",
    "    "
   ]
  },
  {
   "cell_type": "code",
   "execution_count": 8,
   "metadata": {},
   "outputs": [],
   "source": [
    "#power calculator\n",
    "def powercal(x,y):\n",
    "    return x**y"
   ]
  },
  {
   "cell_type": "code",
   "execution_count": 9,
   "metadata": {},
   "outputs": [
    {
     "data": {
      "text/plain": [
       "8"
      ]
     },
     "execution_count": 9,
     "metadata": {},
     "output_type": "execute_result"
    }
   ],
   "source": [
    "powercal(2,3)"
   ]
  },
  {
   "cell_type": "code",
   "execution_count": 21,
   "metadata": {},
   "outputs": [
    {
     "name": "stdout",
     "output_type": "stream",
     "text": [
      "Enter your number6\n",
      "Enter your number6\n"
     ]
    }
   ],
   "source": [
    "#calculate addtion and substraction\n",
    "number1 = int(input(\"Enter your number\"))\n",
    "number2 = int(input(\"Enter your number\"))\n",
    "\n",
    "def addition(number1 , number2):\n",
    "    return number1 + number2\n",
    "def substraction():\n",
    "    sub = number1 - number2\n",
    "    print(\"Substraction of number is: \" +str(sub))\n",
    "    "
   ]
  },
  {
   "cell_type": "code",
   "execution_count": 26,
   "metadata": {},
   "outputs": [
    {
     "name": "stdout",
     "output_type": "stream",
     "text": [
      "Enter your value8\n",
      "8.0 Miles are 12.8 in Kilometer\n"
     ]
    }
   ],
   "source": [
    "#Convert miles to kilometer\n",
    "def conerkilometer(miles = float(input(\"Enter your value\"))):\n",
    "    result = 1.6 * miles\n",
    "    print(str(miles) +\" Miles are \" + str(result) + \" in Kilometer\")\n",
    "conerkilometer()"
   ]
  },
  {
   "cell_type": "markdown",
   "metadata": {},
   "source": [
    "# Lists"
   ]
  },
  {
   "cell_type": "code",
   "execution_count": 121,
   "metadata": {},
   "outputs": [
    {
     "name": "stdout",
     "output_type": "stream",
     "text": [
      "['apple', 'mango', 'mango', 'mango', 'apple', 'orange', 'greyFruits']\n"
     ]
    }
   ],
   "source": [
    "newlist = [\"mango\",\"mango\",\"mango\", \"apple\",\"orange\",\"greyFruits\"]\n",
    "newlist.insert(0,\"apple\")\n",
    "print(newlist)\n",
    "newlist.extend([\"pineapple\",\"grapes\",\"banana\"])"
   ]
  },
  {
   "cell_type": "code",
   "execution_count": 122,
   "metadata": {},
   "outputs": [
    {
     "data": {
      "text/plain": [
       "False"
      ]
     },
     "execution_count": 122,
     "metadata": {},
     "output_type": "execute_result"
    }
   ],
   "source": [
    "newlist.index(\"apple\")\n",
    "\"car\" in newlist"
   ]
  },
  {
   "cell_type": "code",
   "execution_count": 119,
   "metadata": {},
   "outputs": [],
   "source": [
    "newlist.clear()"
   ]
  },
  {
   "cell_type": "code",
   "execution_count": 120,
   "metadata": {},
   "outputs": [
    {
     "name": "stdout",
     "output_type": "stream",
     "text": [
      "[]\n"
     ]
    }
   ],
   "source": []
  },
  {
   "cell_type": "code",
   "execution_count": 2,
   "metadata": {},
   "outputs": [
    {
     "name": "stdout",
     "output_type": "stream",
     "text": [
      "[3, 10, -1]\n",
      "[3, 10, -1, 'a']\n"
     ]
    }
   ],
   "source": [
    "a = [3, 10, -1]\n",
    "print (a)\n",
    "a.append('a')\n",
    "print (a)"
   ]
  },
  {
   "cell_type": "code",
   "execution_count": 5,
   "metadata": {},
   "outputs": [],
   "source": [
    "a.append([\"new list\",1 ,2])"
   ]
  },
  {
   "cell_type": "code",
   "execution_count": 6,
   "metadata": {},
   "outputs": [
    {
     "name": "stdout",
     "output_type": "stream",
     "text": [
      "[3, 10, -1, 'a', ['new list', 1, 2], ['new list', 1, 2]]\n"
     ]
    }
   ],
   "source": [
    "print (a)"
   ]
  },
  {
   "cell_type": "code",
   "execution_count": 7,
   "metadata": {},
   "outputs": [
    {
     "data": {
      "text/plain": [
       "['new list', 1, 2]"
      ]
     },
     "execution_count": 7,
     "metadata": {},
     "output_type": "execute_result"
    }
   ],
   "source": [
    "a.pop()"
   ]
  },
  {
   "cell_type": "code",
   "execution_count": 9,
   "metadata": {},
   "outputs": [
    {
     "name": "stdout",
     "output_type": "stream",
     "text": [
      "[3, 10, -1, 'a', ['new list', 1, 2]]\n"
     ]
    }
   ],
   "source": [
    "print (a)"
   ]
  },
  {
   "cell_type": "code",
   "execution_count": 10,
   "metadata": {},
   "outputs": [
    {
     "data": {
      "text/plain": [
       "['new list', 1, 2]"
      ]
     },
     "execution_count": 10,
     "metadata": {},
     "output_type": "execute_result"
    }
   ],
   "source": [
    "a[4]"
   ]
  },
  {
   "cell_type": "code",
   "execution_count": 11,
   "metadata": {},
   "outputs": [],
   "source": [
    "a[0] = 100"
   ]
  },
  {
   "cell_type": "code",
   "execution_count": 12,
   "metadata": {},
   "outputs": [
    {
     "name": "stdout",
     "output_type": "stream",
     "text": [
      "[100, 10, -1, 'a', ['new list', 1, 2]]\n"
     ]
    }
   ],
   "source": [
    "print(a)"
   ]
  },
  {
   "cell_type": "code",
   "execution_count": 13,
   "metadata": {},
   "outputs": [],
   "source": [
    "b = [\"banana\", \"apple\", \"microsoft\"]"
   ]
  },
  {
   "cell_type": "code",
   "execution_count": 14,
   "metadata": {},
   "outputs": [],
   "source": [
    "temp = b[0]\n",
    "b[0] = b[2]\n",
    "b[2] = temp"
   ]
  },
  {
   "cell_type": "code",
   "execution_count": 15,
   "metadata": {},
   "outputs": [
    {
     "name": "stdout",
     "output_type": "stream",
     "text": [
      "['microsoft', 'apple', 'banana']\n"
     ]
    }
   ],
   "source": [
    "print(b)"
   ]
  },
  {
   "cell_type": "code",
   "execution_count": 16,
   "metadata": {},
   "outputs": [
    {
     "name": "stdout",
     "output_type": "stream",
     "text": [
      "['banana', 'apple', 'microsoft']\n"
     ]
    }
   ],
   "source": [
    "b[0] , b[2] = b[2] , b[0]\n",
    "print(b)"
   ]
  },
  {
   "cell_type": "markdown",
   "metadata": {},
   "source": [
    "# slicing"
   ]
  },
  {
   "cell_type": "markdown",
   "metadata": {},
   "source": []
  },
  {
   "cell_type": "code",
   "execution_count": 131,
   "metadata": {},
   "outputs": [],
   "source": [
    "#index      -5       -4          -3        -2        -1\n",
    "students=[\"ALi\",\"Faisal\",\"Saleem\",\"Hamza\",\"Kashif\"]\n",
    "#index     0      1         2       3        4"
   ]
  },
  {
   "cell_type": "code",
   "execution_count": 132,
   "metadata": {},
   "outputs": [
    {
     "name": "stdout",
     "output_type": "stream",
     "text": [
      "ALi\n",
      "ALi\n"
     ]
    }
   ],
   "source": [
    "print(students[0])\n",
    "print(students[-5])"
   ]
  },
  {
   "cell_type": "code",
   "execution_count": 136,
   "metadata": {},
   "outputs": [
    {
     "data": {
      "text/plain": [
       "['Faisal', 'Saleem']"
      ]
     },
     "execution_count": 136,
     "metadata": {},
     "output_type": "execute_result"
    }
   ],
   "source": [
    "#students[start:end+1] slicing\n",
    "students[1:3]\n",
    "students[-4:-2]"
   ]
  },
  {
   "cell_type": "code",
   "execution_count": 1,
   "metadata": {},
   "outputs": [
    {
     "name": "stdout",
     "output_type": "stream",
     "text": [
      "[1, 2, 3, 4, 5, 6, 7, 8, 9, 10, 11, 12, 13, 14, 15, 16, 17, 18, 19, 20, 21, 22, 23, 24, 25, 26, 27, 28, 29, 30, 31, 32, 33, 34, 35, 36, 37, 38, 39, 40, 41, 42, 43, 44, 45, 46, 47, 48, 49]\n"
     ]
    }
   ],
   "source": [
    "a = list(range(1,50))\n",
    "print(a)"
   ]
  },
  {
   "cell_type": "code",
   "execution_count": 140,
   "metadata": {},
   "outputs": [
    {
     "data": {
      "text/plain": [
       "[1, 3, 5, 7, 9, 11, 13, 15, 17, 19, 21, 23, 25, 27, 29]"
      ]
     },
     "execution_count": 140,
     "metadata": {},
     "output_type": "execute_result"
    }
   ],
   "source": [
    "a[0:30:2]"
   ]
  },
  {
   "cell_type": "code",
   "execution_count": null,
   "metadata": {},
   "outputs": [],
   "source": []
  },
  {
   "cell_type": "markdown",
   "metadata": {},
   "source": [
    "# Loops"
   ]
  },
  {
   "cell_type": "code",
   "execution_count": null,
   "metadata": {},
   "outputs": [],
   "source": [
    "for i in b:\n",
    "    print(i)"
   ]
  },
  {
   "cell_type": "code",
   "execution_count": 78,
   "metadata": {},
   "outputs": [
    {
     "name": "stdout",
     "output_type": "stream",
     "text": [
      "20\n",
      "30\n",
      "35\n"
     ]
    }
   ],
   "source": [
    "a = [20, 10, 5]\n",
    "total = 0\n",
    "for i in a:\n",
    "    total = total + i\n",
    "    print(total)"
   ]
  },
  {
   "cell_type": "code",
   "execution_count": 152,
   "metadata": {},
   "outputs": [
    {
     "name": "stdout",
     "output_type": "stream",
     "text": [
      "P\n",
      "a\n",
      "k\n",
      "i\n",
      "s\n",
      "t\n",
      "a\n",
      "n\n"
     ]
    }
   ],
   "source": [
    "country = \"Pakistan\"\n",
    "\n",
    "for char in country:\n",
    "    print(char)"
   ]
  },
  {
   "cell_type": "code",
   "execution_count": 84,
   "metadata": {},
   "outputs": [
    {
     "name": "stdout",
     "output_type": "stream",
     "text": [
      "10\n"
     ]
    }
   ],
   "source": [
    "# sum of 1, 2 , 3 ,4\n",
    "c = list(range(1, 5))\n",
    "total = 0\n",
    "for i in c:\n",
    "    total2 += i\n",
    "print(total2)"
   ]
  },
  {
   "cell_type": "code",
   "execution_count": 101,
   "metadata": {},
   "outputs": [
    {
     "name": "stdout",
     "output_type": "stream",
     "text": [
      "9\n"
     ]
    }
   ],
   "source": [
    "#find the sum of only the multiple of 3\n",
    "d = list(range(1,8))\n",
    "total3 = 0\n",
    "for i in d:\n",
    "    if i % 3 == 0:\n",
    "        total3 += i\n",
    "print(total3)\n",
    "   "
   ]
  },
  {
   "cell_type": "code",
   "execution_count": 16,
   "metadata": {},
   "outputs": [
    {
     "name": "stdout",
     "output_type": "stream",
     "text": [
      "2318\n"
     ]
    }
   ],
   "source": [
    "#compute all multiple of 3,5 that are less than 100\n",
    "e = list(range(1,100))\n",
    "total4 = 0\n",
    "for i in e:\n",
    "    if(i % 3 == 0 or i % 5 == 0):\n",
    "        total4 += i\n",
    "print(total4)"
   ]
  },
  {
   "cell_type": "markdown",
   "metadata": {},
   "source": [
    "# for loop's break and continue"
   ]
  },
  {
   "cell_type": "code",
   "execution_count": 17,
   "metadata": {},
   "outputs": [
    {
     "name": "stdout",
     "output_type": "stream",
     "text": [
      "0\n"
     ]
    }
   ],
   "source": [
    "for number in range(10):\n",
    "    if number%3 == 1:\n",
    "        break\n",
    "    print(number)"
   ]
  },
  {
   "cell_type": "code",
   "execution_count": 18,
   "metadata": {},
   "outputs": [
    {
     "name": "stdout",
     "output_type": "stream",
     "text": [
      "0\n",
      "2\n",
      "3\n",
      "5\n",
      "6\n",
      "8\n",
      "9\n"
     ]
    }
   ],
   "source": [
    "for number in range(10):\n",
    "    if number%3 == 1:\n",
    "        continue\n",
    "    print(number)"
   ]
  },
  {
   "cell_type": "markdown",
   "metadata": {},
   "source": [
    "# Nested for loop"
   ]
  },
  {
   "cell_type": "code",
   "execution_count": 157,
   "metadata": {},
   "outputs": [
    {
     "name": "stdout",
     "output_type": "stream",
     "text": [
      "Inner loop begins\n",
      "0 c\n",
      "0 h\n",
      "0 i\n",
      "0 n\n",
      "0 a\n",
      "Inner loop begins\n",
      "1 c\n",
      "1 h\n",
      "1 i\n",
      "1 n\n",
      "1 a\n",
      "Inner loop begins\n",
      "2 c\n",
      "2 h\n",
      "2 i\n",
      "2 n\n",
      "2 a\n",
      "Inner loop begins\n",
      "3 c\n",
      "3 h\n",
      "3 i\n",
      "3 n\n",
      "3 a\n",
      "Inner loop begins\n",
      "4 c\n",
      "4 h\n",
      "4 i\n",
      "4 n\n",
      "4 a\n"
     ]
    }
   ],
   "source": [
    "for a in range(5):\n",
    "    print(\"Inner loop begins\")\n",
    "    for char in \"china\":\n",
    "        print(a, char)"
   ]
  },
  {
   "cell_type": "code",
   "execution_count": 158,
   "metadata": {},
   "outputs": [
    {
     "name": "stdout",
     "output_type": "stream",
     "text": [
      "Enter the range of tables6\n",
      "2 * 1 = 2\n",
      "2 * 2 = 4\n",
      "2 * 3 = 6\n",
      "2 * 4 = 8\n",
      "2 * 5 = 10\n",
      "2 * 6 = 12\n",
      "2 * 7 = 14\n",
      "2 * 8 = 16\n",
      "2 * 9 = 18\n",
      "2 * 10 = 20\n",
      "3 * 1 = 3\n",
      "3 * 2 = 6\n",
      "3 * 3 = 9\n",
      "3 * 4 = 12\n",
      "3 * 5 = 15\n",
      "3 * 6 = 18\n",
      "3 * 7 = 21\n",
      "3 * 8 = 24\n",
      "3 * 9 = 27\n",
      "3 * 10 = 30\n",
      "4 * 1 = 4\n",
      "4 * 2 = 8\n",
      "4 * 3 = 12\n",
      "4 * 4 = 16\n",
      "4 * 5 = 20\n",
      "4 * 6 = 24\n",
      "4 * 7 = 28\n",
      "4 * 8 = 32\n",
      "4 * 9 = 36\n",
      "4 * 10 = 40\n",
      "5 * 1 = 5\n",
      "5 * 2 = 10\n",
      "5 * 3 = 15\n",
      "5 * 4 = 20\n",
      "5 * 5 = 25\n",
      "5 * 6 = 30\n",
      "5 * 7 = 35\n",
      "5 * 8 = 40\n",
      "5 * 9 = 45\n",
      "5 * 10 = 50\n",
      "6 * 1 = 6\n",
      "6 * 2 = 12\n",
      "6 * 3 = 18\n",
      "6 * 4 = 24\n",
      "6 * 5 = 30\n",
      "6 * 6 = 36\n",
      "6 * 7 = 42\n",
      "6 * 8 = 48\n",
      "6 * 9 = 54\n",
      "6 * 10 = 60\n"
     ]
    }
   ],
   "source": [
    "tables = int(input(\"Enter the range of tables\"))\n",
    "for table in range(2,tables+1):\n",
    "    for num in range(1,11):\n",
    "        print(f\"{table} * {num} = {table * num}\")"
   ]
  },
  {
   "cell_type": "code",
   "execution_count": null,
   "metadata": {},
   "outputs": [],
   "source": []
  },
  {
   "cell_type": "code",
   "execution_count": null,
   "metadata": {},
   "outputs": [],
   "source": []
  },
  {
   "cell_type": "code",
   "execution_count": null,
   "metadata": {},
   "outputs": [],
   "source": []
  },
  {
   "cell_type": "code",
   "execution_count": null,
   "metadata": {},
   "outputs": [],
   "source": []
  },
  {
   "cell_type": "code",
   "execution_count": null,
   "metadata": {},
   "outputs": [],
   "source": []
  },
  {
   "cell_type": "code",
   "execution_count": null,
   "metadata": {},
   "outputs": [],
   "source": []
  },
  {
   "cell_type": "code",
   "execution_count": null,
   "metadata": {},
   "outputs": [],
   "source": []
  },
  {
   "cell_type": "code",
   "execution_count": null,
   "metadata": {},
   "outputs": [],
   "source": []
  },
  {
   "cell_type": "markdown",
   "metadata": {},
   "source": [
    "# While Loops"
   ]
  },
  {
   "cell_type": "code",
   "execution_count": 121,
   "metadata": {},
   "outputs": [
    {
     "name": "stdout",
     "output_type": "stream",
     "text": [
      "10\n"
     ]
    }
   ],
   "source": [
    "total2 = 0\n",
    "j = 1\n",
    "while j < 5:\n",
    "    total2 += j\n",
    "    j += 1\n",
    "print(total2)"
   ]
  },
  {
   "cell_type": "code",
   "execution_count": 131,
   "metadata": {},
   "outputs": [
    {
     "name": "stdout",
     "output_type": "stream",
     "text": [
      "23\n"
     ]
    }
   ],
   "source": [
    "given_list = [5, 4, 4, 3, 1, 6]\n",
    "total5 = 0\n",
    "i = 0\n",
    "while i < len(given_list) and given_list[i] > 0:\n",
    "    total5 += given_list[i]\n",
    "    i += 1\n",
    "print(total5)"
   ]
  },
  {
   "cell_type": "code",
   "execution_count": 135,
   "metadata": {},
   "outputs": [
    {
     "name": "stdout",
     "output_type": "stream",
     "text": [
      "17\n"
     ]
    }
   ],
   "source": [
    "given_list1 = [5, 4, 4, 3, 1, -2, -3, -5]\n",
    "total6 = 0\n",
    "for element in given_list1:\n",
    "    if element <= 0:\n",
    "        break\n",
    "    total6 += element\n",
    "print(total6)"
   ]
  },
  {
   "cell_type": "code",
   "execution_count": 151,
   "metadata": {},
   "outputs": [
    {
     "name": "stdout",
     "output_type": "stream",
     "text": [
      "17\n"
     ]
    }
   ],
   "source": [
    "given_list1 = [5, 4, 4, 3, 1, -2, -3, -5]\n",
    "total7 = 0\n",
    "i = 0\n",
    "while  True:\n",
    "    total7 += given_list1[i]\n",
    "    i += 1\n",
    "    if given_list1[i] <= 0:\n",
    "        break\n",
    "   \n",
    "\n",
    "print(total7)"
   ]
  },
  {
   "cell_type": "code",
   "execution_count": null,
   "metadata": {},
   "outputs": [],
   "source": [
    "given_list1 = [5, 4, 4, 3, 1, -2, -3, -5]\n",
    "total8 = 0\n",
    "i = 0\n",
    "while i < len(given_list1) and True:\n",
    "    if given_list1[i] <= 0:\n",
    "        total8 += given_list1[i]\n",
    "        i += 1 \n",
    "        print(total8)"
   ]
  },
  {
   "cell_type": "code",
   "execution_count": 13,
   "metadata": {},
   "outputs": [
    {
     "name": "stdout",
     "output_type": "stream",
     "text": [
      "banana\n",
      "apple\n",
      "apple\n",
      "microsoft\n",
      "microsoft\n",
      "microsoft\n"
     ]
    }
   ],
   "source": [
    "a = [\"banana\", \"apple\", \"microsoft\"]\n",
    "for i in range(len(a)):\n",
    "    for j in range(i + 1):\n",
    "        print(a[i])"
   ]
  },
  {
   "cell_type": "markdown",
   "metadata": {},
   "source": [
    "# Dictionaries"
   ]
  },
  {
   "cell_type": "code",
   "execution_count": 25,
   "metadata": {},
   "outputs": [],
   "source": [
    "d = {}\n",
    "#d = {\"George\" : 24, \"Tom\":32}\n",
    "d[\"George\"] = 24\n",
    "d[\"Tom\"] = 32\n",
    "d[\"jenny\"] = 16\n",
    "d[10] = 100"
   ]
  },
  {
   "cell_type": "code",
   "execution_count": 26,
   "metadata": {},
   "outputs": [
    {
     "name": "stdout",
     "output_type": "stream",
     "text": [
      "100\n"
     ]
    }
   ],
   "source": [
    "d[\"jenny\"] = 20\n",
    "print(d[10])"
   ]
  },
  {
   "cell_type": "code",
   "execution_count": 34,
   "metadata": {},
   "outputs": [
    {
     "name": "stdout",
     "output_type": "stream",
     "text": [
      "Key: George \n",
      "value:24 \n",
      "\n",
      "Key: Tom \n",
      "value:32 \n",
      "\n",
      "Key: jenny \n",
      "value:20 \n",
      "\n",
      "Key: 10 \n",
      "value:100 \n",
      "\n"
     ]
    }
   ],
   "source": [
    "for Key, value in d.items():\n",
    "    print(f\"Key: {Key} \")\n",
    "    print(f\"value:{value} \")\n",
    "    print(\"\")"
   ]
  },
  {
   "cell_type": "markdown",
   "metadata": {},
   "source": [
    "# class\n"
   ]
  },
  {
   "cell_type": "code",
   "execution_count": 77,
   "metadata": {},
   "outputs": [],
   "source": [
    "class Robot:\n",
    "    def __init__(self,name, color, weight):\n",
    "        self.name = name\n",
    "        self.color = color\n",
    "        self.weight = weight\n",
    "        \n",
    "    def instroduce_self(self):\n",
    "        print(\"My name is \"+self.name)\n",
    "        print(\"My color is \" + self.color)\n",
    "        print(\"My Weight is \" + str(self.weight))\n",
    "        print(\" \")"
   ]
  },
  {
   "cell_type": "code",
   "execution_count": 80,
   "metadata": {},
   "outputs": [],
   "source": [
    "#r1 = Robot()\n",
    "#r1.name = \"Tom\"\n",
    "#r1.color = \"Red\"\n",
    "#r1.weight = 30\n",
    "\n",
    "#r2 = Robot()\n",
    "#r2.name = \"Jerry\"\n",
    "#r2.color = \"blue\"\n",
    "#r2.weight = 40\n",
    "r1 = Robot(\"Tom\",\"Red\",30)\n",
    "r1 = Robot(\"Jerry\",\"blue\",40)"
   ]
  },
  {
   "cell_type": "code",
   "execution_count": 81,
   "metadata": {},
   "outputs": [
    {
     "name": "stdout",
     "output_type": "stream",
     "text": [
      "My name is Jerry\n",
      "My color is blue\n",
      "My Weight is 40\n",
      " \n",
      "My name is Jerry\n",
      "My color is blue\n",
      "My Weight is 40\n",
      " \n"
     ]
    }
   ],
   "source": [
    "r1.instroduce_self()\n",
    "r2.instroduce_self()"
   ]
  },
  {
   "cell_type": "code",
   "execution_count": 86,
   "metadata": {},
   "outputs": [
    {
     "name": "stdout",
     "output_type": "stream",
     "text": [
      "[2, 6, 10, 14, 18, 22]\n"
     ]
    }
   ],
   "source": [
    "a = [1, 3, 5, 7, 9, 11]\n",
    "c = []\n",
    "for x in a:\n",
    "    c.append( x * 2)\n",
    "print(c)\n",
    "    "
   ]
  },
  {
   "cell_type": "code",
   "execution_count": 88,
   "metadata": {},
   "outputs": [
    {
     "name": "stdout",
     "output_type": "stream",
     "text": [
      "[2, 6, 10, 14, 18, 22]\n"
     ]
    }
   ],
   "source": [
    "d = [x * 2 for x in a]\n",
    "print(d)"
   ]
  },
  {
   "cell_type": "code",
   "execution_count": 95,
   "metadata": {},
   "outputs": [
    {
     "name": "stdout",
     "output_type": "stream",
     "text": [
      "[36, 25, 16, 9, 4, 1]\n"
     ]
    }
   ],
   "source": [
    "e = [1, 2, 3, 4, 5, 6]\n",
    "f = []\n",
    "for x in range(6, 0, -1):\n",
    "    f.append(x**2)\n",
    "print (f)"
   ]
  },
  {
   "cell_type": "code",
   "execution_count": 100,
   "metadata": {},
   "outputs": [
    {
     "name": "stdout",
     "output_type": "stream",
     "text": [
      "[36, 25, 16, 9, 4, 1]\n"
     ]
    }
   ],
   "source": [
    "g = [x**2 for x in range(6, 0, -1)]\n",
    "print(g)"
   ]
  },
  {
   "cell_type": "code",
   "execution_count": 97,
   "metadata": {},
   "outputs": [
    {
     "name": "stdout",
     "output_type": "stream",
     "text": [
      "[36, 25, 16, 9, 4, 1]\n"
     ]
    }
   ],
   "source": [
    "print(g)"
   ]
  },
  {
   "cell_type": "markdown",
   "metadata": {},
   "source": [
    "# Tupples"
   ]
  },
  {
   "cell_type": "code",
   "execution_count": 35,
   "metadata": {},
   "outputs": [],
   "source": [
    "#tupples are immutable\n",
    "atupple = (\"nasir\", 100, \"hussain\")"
   ]
  },
  {
   "cell_type": "code",
   "execution_count": 39,
   "metadata": {},
   "outputs": [
    {
     "name": "stdout",
     "output_type": "stream",
     "text": [
      "(1, 2, 3)\n"
     ]
    }
   ],
   "source": [
    "len(atupple)\n",
    "a = 1, 2, 3,\n",
    "print(a)\n",
    "#a.count(2)\n",
    "#a.index(3)"
   ]
  },
  {
   "cell_type": "code",
   "execution_count": 2,
   "metadata": {},
   "outputs": [],
   "source": [
    "def pizzaOrder(Size, flavour, *toppings):#arbitarary arguments with *\n",
    "    print(f\"your order for pizza of size {Size}, and flavour {flavour} and topping are {toppings}\")\n",
    "    "
   ]
  },
  {
   "cell_type": "code",
   "execution_count": 3,
   "metadata": {},
   "outputs": [
    {
     "name": "stdout",
     "output_type": "stream",
     "text": [
      "your order for pizza of size 12, and flavour ChickenTikka and topping are ('Olives', 'cabsicum', 'Onions')\n"
     ]
    }
   ],
   "source": [
    "pizzaOrder(12,\"ChickenTikka\", \"Olives\", \"cabsicum\", \"Onions\")"
   ]
  },
  {
   "cell_type": "markdown",
   "metadata": {},
   "source": [
    "c# Functions within a functions"
   ]
  },
  {
   "cell_type": "code",
   "execution_count": null,
   "metadata": {},
   "outputs": [],
   "source": []
  },
  {
   "cell_type": "code",
   "execution_count": 16,
   "metadata": {},
   "outputs": [],
   "source": [
    "def commissionCalc(sales):\n",
    "    if sales > 100:\n",
    "        return 100 * 100\n",
    "    elif sales > 50:\n",
    "        return sales * 50\n",
    "    elif sales > 20:\n",
    "        return sales * 20\n",
    "    else: return 0\n",
    "\n",
    "\n",
    "def salaryCalc(basic, sales):\n",
    "    grosssalary = basic + commissionCalc(sales)\n",
    "    \n",
    "    print(f\"Your gross salary is {grosssalary}\")"
   ]
  },
  {
   "cell_type": "code",
   "execution_count": 17,
   "metadata": {},
   "outputs": [
    {
     "name": "stdout",
     "output_type": "stream",
     "text": [
      "Your gross salary is 15000\n"
     ]
    }
   ],
   "source": [
    "salaryCalc(5000, 150)"
   ]
  },
  {
   "cell_type": "code",
   "execution_count": null,
   "metadata": {},
   "outputs": [],
   "source": []
  }
 ],
 "metadata": {
  "kernelspec": {
   "display_name": "Python 3",
   "language": "python",
   "name": "python3"
  },
  "language_info": {
   "codemirror_mode": {
    "name": "ipython",
    "version": 3
   },
   "file_extension": ".py",
   "mimetype": "text/x-python",
   "name": "python",
   "nbconvert_exporter": "python",
   "pygments_lexer": "ipython3",
   "version": "3.8.5"
  }
 },
 "nbformat": 4,
 "nbformat_minor": 4
}
