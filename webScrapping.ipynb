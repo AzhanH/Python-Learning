{
 "cells": [
  {
   "cell_type": "code",
   "execution_count": 2,
   "metadata": {},
   "outputs": [],
   "source": [
    "import requests\n",
    "from bs4 import BeautifulSoup\n",
    "import pandas as pd"
   ]
  },
  {
   "cell_type": "code",
   "execution_count": 95,
   "metadata": {},
   "outputs": [
    {
     "name": "stdout",
     "output_type": "stream",
     "text": [
      "Enter an number5\n"
     ]
    }
   ],
   "source": []
  },
  {
   "cell_type": "code",
   "execution_count": 132,
   "metadata": {},
   "outputs": [
    {
     "name": "stdout",
     "output_type": "stream",
     "text": [
      "Enter an number50\n"
     ]
    }
   ],
   "source": [
    "number = int(input(\"Enter an number\"))\n",
    "res = requests.get(f'https://news.ycombinator.com/news?p=number')\n",
    "soup = BeautifulSoup(res.text, 'html.parser')\n",
    "#display(soup.select('.storylink'))\n",
    "storylink = soup.select('.storylink')\n",
    "subtext = soup.select('.subtext')\n"
   ]
  },
  {
   "cell_type": "code",
   "execution_count": 133,
   "metadata": {},
   "outputs": [],
   "source": [
    "if res != 'null':\n",
    "    def sort_stories_by_votes(hnlist):\n",
    "        return sorted(hnlist, key = lambda x:x['votes'], reverse=True)\n",
    "    def create_custom_hn(links,votes):\n",
    "        hn = []\n",
    "        for idx, item in enumerate(links):\n",
    "            title = links[idx].getText()\n",
    "            href = links[idx].get('href', None)\n",
    "            vote = subtext[idx].select('.score')\n",
    "            if len(vote) != 0 :\n",
    "                scores = int(vote[0].getText().replace('points', ''))\n",
    "                if scores > 100:\n",
    "                    hn.append({'title' :title, 'link': href, 'votes': scores})\n",
    "        return sort_stories_by_votes(hn)"
   ]
  },
  {
   "cell_type": "code",
   "execution_count": 134,
   "metadata": {},
   "outputs": [
    {
     "data": {
      "text/plain": [
       "[{'title': 'Pandora papers: biggest leak of offshore data exposes financial secrets of rich',\n",
       "  'link': 'https://www.theguardian.com/news/2021/oct/03/pandora-papers-biggest-ever-leak-of-offshore-data-exposes-financial-secrets-of-rich-and-powerful',\n",
       "  'votes': 617},\n",
       " {'title': 'Pandora Papers',\n",
       "  'link': 'https://www.icij.org/investigations/pandora-papers',\n",
       "  'votes': 364},\n",
       " {'title': 'Offshore havens and hidden riches of world leaders and billionaires exposed',\n",
       "  'link': 'https://www.icij.org/investigations/pandora-papers/global-investigation-tax-havens-offshore/',\n",
       "  'votes': 237},\n",
       " {'title': 'A Fire Upon the Deep by Vernor Vinge (1992)',\n",
       "  'link': 'https://archive.org/details/fireupondeep00ving',\n",
       "  'votes': 207},\n",
       " {'title': 'Word-Aligned Bloom Filters',\n",
       "  'link': 'https://lemire.me/blog/2021/10/03/word-aligned-bloom-filters/',\n",
       "  'votes': 167},\n",
       " {'title': 'How does the economy work? A new Fed paper suggests nobody really knows',\n",
       "  'link': 'https://www.nytimes.com/2021/10/01/upshot/inflation-economy-analysis.html',\n",
       "  'votes': 151},\n",
       " {'title': 'Ugit - DIY Git in Python',\n",
       "  'link': 'https://www.leshenko.net/p/ugit/#',\n",
       "  'votes': 148},\n",
       " {'title': 'Dune: A Shell by the Beach',\n",
       "  'link': 'https://github.com/adam-mcdaniel/dune',\n",
       "  'votes': 113},\n",
       " {'title': 'Removing my site from Google search',\n",
       "  'link': 'https://www.btao.org/2021/10/03/removing-from-google/',\n",
       "  'votes': 107},\n",
       " {'title': 'A massive oil spill in the Pacific Ocean reached the Southern California coast',\n",
       "  'link': 'https://www.npr.org/2021/10/03/1042846846/a-massive-oil-spill-in-the-pacific-ocean-has-reached-the-southern-california-coa',\n",
       "  'votes': 105},\n",
       " {'title': 'X-rays reveal censored portions of Marie Antoinette’s letters to Swedish count',\n",
       "  'link': 'https://arstechnica.com/science/2021/10/x-rays-reveal-censored-portions-of-marie-antoinettes-letters-to-swedish-count/',\n",
       "  'votes': 105}]"
      ]
     },
     "metadata": {},
     "output_type": "display_data"
    }
   ],
   "source": [
    "display(create_custom_hn(storylink,subtext))"
   ]
  },
  {
   "cell_type": "code",
   "execution_count": null,
   "metadata": {},
   "outputs": [],
   "source": []
  },
  {
   "cell_type": "code",
   "execution_count": null,
   "metadata": {},
   "outputs": [],
   "source": []
  }
 ],
 "metadata": {
  "kernelspec": {
   "display_name": "Python 3",
   "language": "python",
   "name": "python3"
  },
  "language_info": {
   "codemirror_mode": {
    "name": "ipython",
    "version": 3
   },
   "file_extension": ".py",
   "mimetype": "text/x-python",
   "name": "python",
   "nbconvert_exporter": "python",
   "pygments_lexer": "ipython3",
   "version": "3.8.5"
  }
 },
 "nbformat": 4,
 "nbformat_minor": 4
}
