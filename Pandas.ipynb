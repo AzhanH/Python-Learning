{
 "cells": [
  {
   "cell_type": "markdown",
   "metadata": {},
   "source": [
    "# Pandas Series"
   ]
  },
  {
   "cell_type": "code",
   "execution_count": 2,
   "metadata": {},
   "outputs": [],
   "source": [
    "import pandas as pd\n",
    "import numpy as np"
   ]
  },
  {
   "cell_type": "code",
   "execution_count": 2,
   "metadata": {},
   "outputs": [
    {
     "name": "stdout",
     "output_type": "stream",
     "text": [
      "0    4\n",
      "1    7\n",
      "2   -5\n",
      "3    3\n",
      "dtype: int64\n"
     ]
    }
   ],
   "source": [
    "# Series are for single dimensional\n",
    "obj = pd.Series([4,7,-5,3])\n",
    "print(obj)"
   ]
  },
  {
   "cell_type": "code",
   "execution_count": 3,
   "metadata": {},
   "outputs": [
    {
     "data": {
      "text/plain": [
       "2   -5\n",
       "3    3\n",
       "0    4\n",
       "1    7\n",
       "dtype: int64"
      ]
     },
     "execution_count": 3,
     "metadata": {},
     "output_type": "execute_result"
    }
   ],
   "source": [
    "obj.sort_values()"
   ]
  },
  {
   "cell_type": "code",
   "execution_count": 12,
   "metadata": {},
   "outputs": [
    {
     "name": "stdout",
     "output_type": "stream",
     "text": [
      "Values [ 4  7 -5  3] Index:  RangeIndex(start=0, stop=4, step=1)\n"
     ]
    }
   ],
   "source": [
    "print(\"Values\",obj.values, \"Index: \",obj.index)"
   ]
  },
  {
   "cell_type": "code",
   "execution_count": 14,
   "metadata": {},
   "outputs": [
    {
     "name": "stdout",
     "output_type": "stream",
     "text": [
      "a    100\n",
      "b    200\n",
      "c    300\n",
      "d    400\n",
      "dtype: int64\n"
     ]
    }
   ],
   "source": [
    "sales = pd.Series([100,200,300,400], index = ['a','b','c','d'])\n",
    " print(sales)"
   ]
  },
  {
   "cell_type": "code",
   "execution_count": 15,
   "metadata": {},
   "outputs": [
    {
     "name": "stdout",
     "output_type": "stream",
     "text": [
      "Values [100 200 300 400] Index:  Index(['a', 'b', 'c', 'd'], dtype='object')\n"
     ]
    }
   ],
   "source": [
    "print(\"Values\",sales.values, \"Index: \",sales.index)"
   ]
  },
  {
   "cell_type": "code",
   "execution_count": 18,
   "metadata": {},
   "outputs": [
    {
     "name": "stdout",
     "output_type": "stream",
     "text": [
      "Jan    100\n",
      "Feb    200\n",
      "Mar    300\n",
      "Apr    400\n",
      "Name: 4 Months Sales, dtype: int64\n"
     ]
    }
   ],
   "source": [
    "sales = pd.Series([100,200,300,400], index = ['Jan','Feb','Mar','Apr'], name = \"4 Months Sales\")\n",
    "print(sales)"
   ]
  },
  {
   "cell_type": "code",
   "execution_count": 24,
   "metadata": {},
   "outputs": [
    {
     "name": "stdout",
     "output_type": "stream",
     "text": [
      "Monday       50\n",
      "Tuesday      60\n",
      "Wednesday    30\n",
      "thrusday     80\n",
      "Friday       90\n",
      "Saturday     15\n",
      "Sunday        0\n",
      "Name: Sales of Sandwiches per day in Canteen, dtype: int64\n"
     ]
    }
   ],
   "source": [
    "Canteen = pd.Series([50,60,30,80,90,15,0], index = ['Monday','Tuesday','Wednesday', 'thrusday', 'Friday', 'Saturday', 'Sunday'], name = \"Sales of Sandwiches per day in Canteen\")\n",
    "print(Canteen)"
   ]
  },
  {
   "cell_type": "code",
   "execution_count": 32,
   "metadata": {},
   "outputs": [
    {
     "name": "stdout",
     "output_type": "stream",
     "text": [
      "60\n",
      "60\n",
      "0\n"
     ]
    }
   ],
   "source": [
    "print(Canteen[1])\n",
    "print(Canteen[\"Tuesday\"])\n",
    "print(Canteen[\"Sunday\"])"
   ]
  },
  {
   "cell_type": "code",
   "execution_count": 37,
   "metadata": {},
   "outputs": [
    {
     "name": "stdout",
     "output_type": "stream",
     "text": [
      "thrusday    80\n",
      "Saturday    15\n",
      "Name: Sales of Sandwiches per day in Canteen, dtype: int64\n",
      "Tuesday    60\n",
      "Sunday      0\n",
      "Name: Sales of Sandwiches per day in Canteen, dtype: int64\n"
     ]
    }
   ],
   "source": [
    "print(Canteen[ [3,5] ])\n",
    "print(Canteen[[\"Tuesday\", \"Sunday\"]])"
   ]
  },
  {
   "cell_type": "code",
   "execution_count": 38,
   "metadata": {},
   "outputs": [
    {
     "name": "stdout",
     "output_type": "stream",
     "text": [
      "Monday      50\n",
      "Tuesday     60\n",
      "thrusday    80\n",
      "Friday      90\n",
      "Name: Sales of Sandwiches per day in Canteen, dtype: int64\n"
     ]
    }
   ],
   "source": [
    "print(Canteen[Canteen > 40])"
   ]
  },
  {
   "cell_type": "code",
   "execution_count": 41,
   "metadata": {},
   "outputs": [],
   "source": [
    "Canteen = Canteen * 2"
   ]
  },
  {
   "cell_type": "code",
   "execution_count": 42,
   "metadata": {},
   "outputs": [
    {
     "name": "stdout",
     "output_type": "stream",
     "text": [
      "Monday       100\n",
      "Tuesday      120\n",
      "Wednesday     60\n",
      "thrusday     160\n",
      "Friday       180\n",
      "Saturday      30\n",
      "Sunday         0\n",
      "Name: Sales of Sandwiches per day in Canteen, dtype: int64\n"
     ]
    }
   ],
   "source": [
    "print(Canteen)"
   ]
  },
  {
   "cell_type": "code",
   "execution_count": 45,
   "metadata": {},
   "outputs": [],
   "source": [
    "Canteen = Canteen / 2"
   ]
  },
  {
   "cell_type": "code",
   "execution_count": 49,
   "metadata": {},
   "outputs": [
    {
     "name": "stdout",
     "output_type": "stream",
     "text": [
      "Monday       25.0\n",
      "Tuesday      30.0\n",
      "Wednesday    15.0\n",
      "thrusday     40.0\n",
      "Friday       45.0\n",
      "Saturday      7.5\n",
      "Sunday        0.0\n",
      "Name: Sales of Sandwiches per day in Canteen, dtype: float64\n"
     ]
    }
   ],
   "source": [
    "print(Canteen)"
   ]
  },
  {
   "cell_type": "code",
   "execution_count": 57,
   "metadata": {},
   "outputs": [
    {
     "data": {
      "text/plain": [
       "True"
      ]
     },
     "execution_count": 57,
     "metadata": {},
     "output_type": "execute_result"
    }
   ],
   "source": [
    "'Sunday' in Canteen"
   ]
  },
  {
   "cell_type": "code",
   "execution_count": 30,
   "metadata": {},
   "outputs": [],
   "source": [
    "import numpy as np"
   ]
  },
  {
   "cell_type": "code",
   "execution_count": 64,
   "metadata": {},
   "outputs": [],
   "source": [
    "arr = np.array([3,2,4,5,6])\n",
    "ind  = np.array(['a','b','c','d','e'])\n",
    "\n",
    "obj2 = pd.Series(arr,ind, name = \"Numpy array to Pandas\")"
   ]
  },
  {
   "cell_type": "code",
   "execution_count": 65,
   "metadata": {},
   "outputs": [
    {
     "name": "stdout",
     "output_type": "stream",
     "text": [
      "a    3\n",
      "b    2\n",
      "c    4\n",
      "d    5\n",
      "e    6\n",
      "Name: Numpy array to Pandas, dtype: int32\n"
     ]
    }
   ],
   "source": [
    "print(obj2)"
   ]
  },
  {
   "cell_type": "code",
   "execution_count": 69,
   "metadata": {},
   "outputs": [
    {
     "name": "stdout",
     "output_type": "stream",
     "text": [
      "Sindh          35000\n",
      "Punjab         45000\n",
      "KPK            20000\n",
      "Balochistan    15000\n",
      "dtype: int64\n"
     ]
    }
   ],
   "source": [
    "sdata = {\"Sindh\" : 35000, \"Punjab\" : 45000, \"KPK\" : 20000, \"Balochistan\": 15000}\n",
    "text_by_state = pd.Series(sdata)\n",
    "print(text_by_state)"
   ]
  },
  {
   "cell_type": "code",
   "execution_count": 79,
   "metadata": {},
   "outputs": [
    {
     "name": "stdout",
     "output_type": "stream",
     "text": [
      "1     100\n",
      "2     300\n",
      "3     400\n",
      "5    5000\n",
      "dtype: int64\n"
     ]
    }
   ],
   "source": [
    "sandwichsale= {1 : 100, 2: 300, 3 : 400, 5 : 5000}\n",
    "s = pd.Series(sandwichsale)\n",
    "print(s)"
   ]
  },
  {
   "cell_type": "code",
   "execution_count": 4,
   "metadata": {},
   "outputs": [
    {
     "name": "stdout",
     "output_type": "stream",
     "text": [
      "Sindh          35000.0\n",
      "Punjab         45000.0\n",
      "KPK            20000.0\n",
      "Balochistan    15000.0\n",
      "GB                 NaN\n",
      "dtype: float64\n",
      "Sindh          False\n",
      "Punjab         False\n",
      "KPK            False\n",
      "Balochistan    False\n",
      "GB              True\n",
      "dtype: bool\n"
     ]
    }
   ],
   "source": [
    "# indentifying null value\n",
    "sdata = {\"Sindh\" : 35000, \"Punjab\" : 45000, \"KPK\" : 20000, \"Balochistan\": 15000}\n",
    "text_by_state = pd.Series(sdata, index = [\"Sindh\", \"Punjab\", \"KPK\", \"Balochistan\",\"GB\"])\n",
    "print(text_by_state)\n",
    "print(pd.isnull(text_by_state))"
   ]
  },
  {
   "cell_type": "code",
   "execution_count": 5,
   "metadata": {},
   "outputs": [
    {
     "name": "stdout",
     "output_type": "stream",
     "text": [
      "States Name\n",
      "Sindh          35000.0\n",
      "Punjab         45000.0\n",
      "KPK            20000.0\n",
      "Balochistan    15000.0\n",
      "GB                 NaN\n",
      "Name: States tax, dtype: float64\n"
     ]
    }
   ],
   "source": [
    "text_by_state.name = \"States tax\"\n",
    "text_by_state.index.name = \"States Name\"\n",
    "\n",
    "print(text_by_state)\n",
    "#print(text_by_state.index)"
   ]
  },
  {
   "cell_type": "code",
   "execution_count": null,
   "metadata": {},
   "outputs": [],
   "source": [
    "# Nan values mean, values does not exist in d"
   ]
  },
  {
   "cell_type": "code",
   "execution_count": null,
   "metadata": {},
   "outputs": [],
   "source": []
  },
  {
   "cell_type": "code",
   "execution_count": 95,
   "metadata": {},
   "outputs": [
    {
     "name": "stdout",
     "output_type": "stream",
     "text": [
      "m    50\n",
      "t    60\n",
      "w    30\n",
      "t    80\n",
      "f    90\n",
      "s    15\n",
      "s     0\n",
      "Name: Sales of Sandwiches per day in Canteen, dtype: int64\n"
     ]
    }
   ],
   "source": [
    "Cn = pd.Series([50,60,30,80,90,15,0], index = ['Monday','Tuesday','Wednesday', 'thrusday', 'Friday', 'Saturday', 'Sunday'], name = \"Sales of Sandwiches per day in Canteen\")\n",
    "Cn.index = [\"m\",\"t\",\"w\",\"t\",\"f\",\"s\",\"s\"]\n",
    "print(Cn)"
   ]
  },
  {
   "cell_type": "markdown",
   "metadata": {},
   "source": [
    "# Data Frame"
   ]
  },
  {
   "cell_type": "code",
   "execution_count": 105,
   "metadata": {},
   "outputs": [
    {
     "name": "stdout",
     "output_type": "stream",
     "text": [
      "   apples  oranges\n",
      "0       3        5\n",
      "1       2        4\n",
      "2       0        2\n",
      "3       1        1\n"
     ]
    }
   ],
   "source": [
    "apples = pd.Series([3,2,0,1])\n",
    "oranges = pd.Series([5,4,2,1])\n",
    "\n",
    "data = {\"apples\": apples, \"oranges\" : oranges}\n",
    "fruits_df = pd.DataFrame(data)\n",
    "print(fruits_df)"
   ]
  },
  {
   "cell_type": "code",
   "execution_count": 3,
   "metadata": {},
   "outputs": [
    {
     "name": "stdout",
     "output_type": "stream",
     "text": [
      "      State  Year  Pop\n",
      "1st    Ohio  2000  1.5\n",
      "2nd    Ohio  2001  1.7\n",
      "3rd    Ohio  2002  3.6\n",
      "4th  Nevada  2001  2.4\n",
      "5th  Nevada  2002  2.9\n",
      "6th  Nevada  2003  3.2\n"
     ]
    }
   ],
   "source": [
    "data = {'State':['Ohio','Ohio','Ohio','Nevada','Nevada','Nevada'],\n",
    "       'Year':[2000, 2001, 2002, 2001, 2002, 2003],\n",
    "       'Pop': [1.5, 1.7, 3.6, 2.4, 2.9, 3.2]}\n",
    "frame = pd.DataFrame(data, index = ['1st','2nd','3rd','4th','5th','6th'])\n",
    "print(frame)"
   ]
  },
  {
   "cell_type": "code",
   "execution_count": 127,
   "metadata": {},
   "outputs": [
    {
     "data": {
      "text/html": [
       "<div>\n",
       "<style scoped>\n",
       "    .dataframe tbody tr th:only-of-type {\n",
       "        vertical-align: middle;\n",
       "    }\n",
       "\n",
       "    .dataframe tbody tr th {\n",
       "        vertical-align: top;\n",
       "    }\n",
       "\n",
       "    .dataframe thead th {\n",
       "        text-align: right;\n",
       "    }\n",
       "</style>\n",
       "<table border=\"1\" class=\"dataframe\">\n",
       "  <thead>\n",
       "    <tr style=\"text-align: right;\">\n",
       "      <th></th>\n",
       "      <th>State</th>\n",
       "      <th>Year</th>\n",
       "      <th>Pop</th>\n",
       "    </tr>\n",
       "  </thead>\n",
       "  <tbody>\n",
       "    <tr>\n",
       "      <th>1st</th>\n",
       "      <td>Ohio</td>\n",
       "      <td>2000</td>\n",
       "      <td>1.5</td>\n",
       "    </tr>\n",
       "    <tr>\n",
       "      <th>2nd</th>\n",
       "      <td>Ohio</td>\n",
       "      <td>2001</td>\n",
       "      <td>1.7</td>\n",
       "    </tr>\n",
       "    <tr>\n",
       "      <th>3rd</th>\n",
       "      <td>Ohio</td>\n",
       "      <td>2002</td>\n",
       "      <td>3.6</td>\n",
       "    </tr>\n",
       "    <tr>\n",
       "      <th>4th</th>\n",
       "      <td>Nevada</td>\n",
       "      <td>2001</td>\n",
       "      <td>2.4</td>\n",
       "    </tr>\n",
       "    <tr>\n",
       "      <th>5th</th>\n",
       "      <td>Nevada</td>\n",
       "      <td>2002</td>\n",
       "      <td>2.9</td>\n",
       "    </tr>\n",
       "  </tbody>\n",
       "</table>\n",
       "</div>"
      ],
      "text/plain": [
       "      State  Year  Pop\n",
       "1st    Ohio  2000  1.5\n",
       "2nd    Ohio  2001  1.7\n",
       "3rd    Ohio  2002  3.6\n",
       "4th  Nevada  2001  2.4\n",
       "5th  Nevada  2002  2.9"
      ]
     },
     "execution_count": 127,
     "metadata": {},
     "output_type": "execute_result"
    }
   ],
   "source": [
    "frame.head()"
   ]
  },
  {
   "cell_type": "code",
   "execution_count": 7,
   "metadata": {},
   "outputs": [
    {
     "data": {
      "text/html": [
       "<div>\n",
       "<style scoped>\n",
       "    .dataframe tbody tr th:only-of-type {\n",
       "        vertical-align: middle;\n",
       "    }\n",
       "\n",
       "    .dataframe tbody tr th {\n",
       "        vertical-align: top;\n",
       "    }\n",
       "\n",
       "    .dataframe thead th {\n",
       "        text-align: right;\n",
       "    }\n",
       "</style>\n",
       "<table border=\"1\" class=\"dataframe\">\n",
       "  <thead>\n",
       "    <tr style=\"text-align: right;\">\n",
       "      <th></th>\n",
       "      <th>Year</th>\n",
       "      <th>State</th>\n",
       "      <th>Pop</th>\n",
       "    </tr>\n",
       "  </thead>\n",
       "  <tbody>\n",
       "    <tr>\n",
       "      <th>1st</th>\n",
       "      <td>2000</td>\n",
       "      <td>Ohio</td>\n",
       "      <td>1.5</td>\n",
       "    </tr>\n",
       "    <tr>\n",
       "      <th>2nd</th>\n",
       "      <td>2001</td>\n",
       "      <td>Ohio</td>\n",
       "      <td>1.7</td>\n",
       "    </tr>\n",
       "    <tr>\n",
       "      <th>3rd</th>\n",
       "      <td>2002</td>\n",
       "      <td>Ohio</td>\n",
       "      <td>3.6</td>\n",
       "    </tr>\n",
       "    <tr>\n",
       "      <th>4th</th>\n",
       "      <td>2001</td>\n",
       "      <td>Nevada</td>\n",
       "      <td>2.4</td>\n",
       "    </tr>\n",
       "    <tr>\n",
       "      <th>5th</th>\n",
       "      <td>2002</td>\n",
       "      <td>Nevada</td>\n",
       "      <td>2.9</td>\n",
       "    </tr>\n",
       "  </tbody>\n",
       "</table>\n",
       "</div>"
      ],
      "text/plain": [
       "     Year   State  Pop\n",
       "1st  2000    Ohio  1.5\n",
       "2nd  2001    Ohio  1.7\n",
       "3rd  2002    Ohio  3.6\n",
       "4th  2001  Nevada  2.4\n",
       "5th  2002  Nevada  2.9"
      ]
     },
     "metadata": {},
     "output_type": "display_data"
    }
   ],
   "source": [
    "frame = pd.DataFrame(data,index = ['1st','2nd','3rd','4th','5th','6th'], columns = ['Year','State','Pop'])\n",
    "display(frame.head())"
   ]
  },
  {
   "cell_type": "code",
   "execution_count": 89,
   "metadata": {},
   "outputs": [
    {
     "name": "stdout",
     "output_type": "stream",
     "text": [
      "     Year   State  Pop Debt\n",
      "1st  2000    Ohio  1.5  NaN\n",
      "2nd  2001    Ohio  1.7  NaN\n",
      "3rd  2002    Ohio  3.6  NaN\n",
      "4th  2001  Nevada  2.4  NaN\n",
      "5th  2002  Nevada  2.9  NaN\n",
      "6th  2003  Nevada  3.2  NaN\n"
     ]
    }
   ],
   "source": [
    "frame2 = pd.DataFrame(data,index = ['1st','2nd','3rd','4th','5th','6th'], columns = ['Year','State','Pop','Debt'])\n",
    "print(frame2)"
   ]
  },
  {
   "cell_type": "code",
   "execution_count": 90,
   "metadata": {},
   "outputs": [
    {
     "name": "stdout",
     "output_type": "stream",
     "text": [
      "Index(['Year', 'State', 'Pop', 'Debt'], dtype='object') Index(['1st', '2nd', '3rd', '4th', '5th', '6th'], dtype='object')\n"
     ]
    }
   ],
   "source": [
    "print(frame2.columns,\n",
    "frame2.index)"
   ]
  },
  {
   "cell_type": "code",
   "execution_count": 91,
   "metadata": {},
   "outputs": [
    {
     "data": {
      "text/plain": [
       "{'State': ['Ohio', 'Ohio', 'Ohio', 'Nevada', 'Nevada', 'Nevada'],\n",
       " 'Year': [2000, 2001, 2002, 2001, 2002, 2003],\n",
       " 'Pop': [1.5, 1.7, 3.6, 2.4, 2.9, 3.2]}"
      ]
     },
     "metadata": {},
     "output_type": "display_data"
    }
   ],
   "source": [
    "#Retriving the data from dataframe\n",
    "#A column in a DataFrame can be retrieved as a Series either by dict like notation or by attribute:\n",
    "display(data)"
   ]
  },
  {
   "cell_type": "code",
   "execution_count": 93,
   "metadata": {},
   "outputs": [
    {
     "name": "stdout",
     "output_type": "stream",
     "text": [
      "[1.5, 1.7, 3.6, 2.4, 2.9, 3.2]\n",
      "['Ohio', 'Ohio', 'Ohio', 'Nevada', 'Nevada', 'Nevada']\n"
     ]
    },
    {
     "data": {
      "text/plain": [
       "1st    2000\n",
       "2nd    2001\n",
       "3rd    2002\n",
       "4th    2001\n",
       "5th    2002\n",
       "6th    2003\n",
       "Name: Year, dtype: int64"
      ]
     },
     "execution_count": 93,
     "metadata": {},
     "output_type": "execute_result"
    }
   ],
   "source": [
    "print(data['Pop' ])\n",
    "print(data['State']) # <-- dict like notation\n",
    "frame2['Year']#<-- this dict like notation to access or extract dataframe column data"
   ]
  },
  {
   "cell_type": "code",
   "execution_count": 17,
   "metadata": {},
   "outputs": [
    {
     "data": {
      "text/plain": [
       "1st    2000\n",
       "2nd    2001\n",
       "3rd    2002\n",
       "4th    2001\n",
       "5th    2002\n",
       "6th    2003\n",
       "Name: Year, dtype: int64"
      ]
     },
     "execution_count": 17,
     "metadata": {},
     "output_type": "execute_result"
    }
   ],
   "source": [
    "#there is another method, attribute style of accessing dataframe\n",
    "frame2.Year # <-- this is attribute like way to access or extract dataframe column data"
   ]
  },
  {
   "cell_type": "code",
   "execution_count": 23,
   "metadata": {},
   "outputs": [
    {
     "name": "stdout",
     "output_type": "stream",
     "text": [
      "Year       2003\n",
      "State    Nevada\n",
      "Pop         3.2\n",
      "Name: 6th, dtype: object \n",
      "***************\n",
      " Year       2002\n",
      "State    Nevada\n",
      "Pop         2.9\n",
      "Name: 5th, dtype: object\n"
     ]
    }
   ],
   "source": [
    "\n",
    "print(frame.loc['6th'],\"\\n***************\\n\",frame.loc['5th'])"
   ]
  },
  {
   "cell_type": "code",
   "execution_count": 28,
   "metadata": {},
   "outputs": [
    {
     "name": "stdout",
     "output_type": "stream",
     "text": [
      "     Year   State  Pop Debt\n",
      "1st  2000    Ohio  1.5  NaN\n",
      "2nd  2001    Ohio  1.7  NaN\n",
      "3rd  2002    Ohio  3.6  NaN\n",
      "4th  2001  Nevada  2.4  NaN\n",
      "5th  2002  Nevada  2.9  NaN\n",
      "6th  2003  Nevada  3.2  NaN\n"
     ]
    }
   ],
   "source": [
    "print(frame2)"
   ]
  },
  {
   "cell_type": "code",
   "execution_count": 35,
   "metadata": {},
   "outputs": [],
   "source": [
    "ln = len(frame2) #finding no of rows in dataframe"
   ]
  },
  {
   "cell_type": "code",
   "execution_count": 36,
   "metadata": {},
   "outputs": [
    {
     "data": {
      "text/plain": [
       "array([0, 1, 2, 3, 4, 5])"
      ]
     },
     "execution_count": 36,
     "metadata": {},
     "output_type": "execute_result"
    }
   ],
   "source": [
    "rng = np.arange(ln)\n",
    "rng"
   ]
  },
  {
   "cell_type": "code",
   "execution_count": 38,
   "metadata": {},
   "outputs": [
    {
     "data": {
      "text/html": [
       "<div>\n",
       "<style scoped>\n",
       "    .dataframe tbody tr th:only-of-type {\n",
       "        vertical-align: middle;\n",
       "    }\n",
       "\n",
       "    .dataframe tbody tr th {\n",
       "        vertical-align: top;\n",
       "    }\n",
       "\n",
       "    .dataframe thead th {\n",
       "        text-align: right;\n",
       "    }\n",
       "</style>\n",
       "<table border=\"1\" class=\"dataframe\">\n",
       "  <thead>\n",
       "    <tr style=\"text-align: right;\">\n",
       "      <th></th>\n",
       "      <th>Year</th>\n",
       "      <th>State</th>\n",
       "      <th>Pop</th>\n",
       "      <th>Debt</th>\n",
       "    </tr>\n",
       "  </thead>\n",
       "  <tbody>\n",
       "    <tr>\n",
       "      <th>1st</th>\n",
       "      <td>2000</td>\n",
       "      <td>Ohio</td>\n",
       "      <td>1.5</td>\n",
       "      <td>0</td>\n",
       "    </tr>\n",
       "    <tr>\n",
       "      <th>2nd</th>\n",
       "      <td>2001</td>\n",
       "      <td>Ohio</td>\n",
       "      <td>1.7</td>\n",
       "      <td>1</td>\n",
       "    </tr>\n",
       "    <tr>\n",
       "      <th>3rd</th>\n",
       "      <td>2002</td>\n",
       "      <td>Ohio</td>\n",
       "      <td>3.6</td>\n",
       "      <td>2</td>\n",
       "    </tr>\n",
       "    <tr>\n",
       "      <th>4th</th>\n",
       "      <td>2001</td>\n",
       "      <td>Nevada</td>\n",
       "      <td>2.4</td>\n",
       "      <td>3</td>\n",
       "    </tr>\n",
       "    <tr>\n",
       "      <th>5th</th>\n",
       "      <td>2002</td>\n",
       "      <td>Nevada</td>\n",
       "      <td>2.9</td>\n",
       "      <td>4</td>\n",
       "    </tr>\n",
       "    <tr>\n",
       "      <th>6th</th>\n",
       "      <td>2003</td>\n",
       "      <td>Nevada</td>\n",
       "      <td>3.2</td>\n",
       "      <td>5</td>\n",
       "    </tr>\n",
       "  </tbody>\n",
       "</table>\n",
       "</div>"
      ],
      "text/plain": [
       "     Year   State  Pop  Debt\n",
       "1st  2000    Ohio  1.5     0\n",
       "2nd  2001    Ohio  1.7     1\n",
       "3rd  2002    Ohio  3.6     2\n",
       "4th  2001  Nevada  2.4     3\n",
       "5th  2002  Nevada  2.9     4\n",
       "6th  2003  Nevada  3.2     5"
      ]
     },
     "execution_count": 38,
     "metadata": {},
     "output_type": "execute_result"
    }
   ],
   "source": [
    "frame2.Debt = rng\n",
    "frame2"
   ]
  },
  {
   "cell_type": "code",
   "execution_count": 46,
   "metadata": {},
   "outputs": [
    {
     "name": "stderr",
     "output_type": "stream",
     "text": [
      "<ipython-input-46-61ddda60dcdb>:1: SettingWithCopyWarning: \n",
      "A value is trying to be set on a copy of a slice from a DataFrame\n",
      "\n",
      "See the caveats in the documentation: https://pandas.pydata.org/pandas-docs/stable/user_guide/indexing.html#returning-a-view-versus-a-copy\n",
      "  frame2['Debt']['2nd'] = 6\n"
     ]
    },
    {
     "data": {
      "text/html": [
       "<div>\n",
       "<style scoped>\n",
       "    .dataframe tbody tr th:only-of-type {\n",
       "        vertical-align: middle;\n",
       "    }\n",
       "\n",
       "    .dataframe tbody tr th {\n",
       "        vertical-align: top;\n",
       "    }\n",
       "\n",
       "    .dataframe thead th {\n",
       "        text-align: right;\n",
       "    }\n",
       "</style>\n",
       "<table border=\"1\" class=\"dataframe\">\n",
       "  <thead>\n",
       "    <tr style=\"text-align: right;\">\n",
       "      <th></th>\n",
       "      <th>Year</th>\n",
       "      <th>State</th>\n",
       "      <th>Pop</th>\n",
       "      <th>Debt</th>\n",
       "    </tr>\n",
       "  </thead>\n",
       "  <tbody>\n",
       "    <tr>\n",
       "      <th>1st</th>\n",
       "      <td>2000</td>\n",
       "      <td>Ohio</td>\n",
       "      <td>1.5</td>\n",
       "      <td>6</td>\n",
       "    </tr>\n",
       "    <tr>\n",
       "      <th>2nd</th>\n",
       "      <td>2001</td>\n",
       "      <td>Ohio</td>\n",
       "      <td>1.7</td>\n",
       "      <td>6</td>\n",
       "    </tr>\n",
       "    <tr>\n",
       "      <th>3rd</th>\n",
       "      <td>2002</td>\n",
       "      <td>Ohio</td>\n",
       "      <td>3.6</td>\n",
       "      <td>2</td>\n",
       "    </tr>\n",
       "    <tr>\n",
       "      <th>4th</th>\n",
       "      <td>2001</td>\n",
       "      <td>Nevada</td>\n",
       "      <td>2.4</td>\n",
       "      <td>3</td>\n",
       "    </tr>\n",
       "    <tr>\n",
       "      <th>5th</th>\n",
       "      <td>2002</td>\n",
       "      <td>Nevada</td>\n",
       "      <td>2.9</td>\n",
       "      <td>4</td>\n",
       "    </tr>\n",
       "    <tr>\n",
       "      <th>6th</th>\n",
       "      <td>2003</td>\n",
       "      <td>Nevada</td>\n",
       "      <td>3.2</td>\n",
       "      <td>5</td>\n",
       "    </tr>\n",
       "  </tbody>\n",
       "</table>\n",
       "</div>"
      ],
      "text/plain": [
       "     Year   State  Pop  Debt\n",
       "1st  2000    Ohio  1.5     6\n",
       "2nd  2001    Ohio  1.7     6\n",
       "3rd  2002    Ohio  3.6     2\n",
       "4th  2001  Nevada  2.4     3\n",
       "5th  2002  Nevada  2.9     4\n",
       "6th  2003  Nevada  3.2     5"
      ]
     },
     "execution_count": 46,
     "metadata": {},
     "output_type": "execute_result"
    }
   ],
   "source": [
    "frame2['Debt']['2nd'] = 6\n",
    "frame2"
   ]
  },
  {
   "cell_type": "code",
   "execution_count": 49,
   "metadata": {},
   "outputs": [
    {
     "data": {
      "text/html": [
       "<div>\n",
       "<style scoped>\n",
       "    .dataframe tbody tr th:only-of-type {\n",
       "        vertical-align: middle;\n",
       "    }\n",
       "\n",
       "    .dataframe tbody tr th {\n",
       "        vertical-align: top;\n",
       "    }\n",
       "\n",
       "    .dataframe thead th {\n",
       "        text-align: right;\n",
       "    }\n",
       "</style>\n",
       "<table border=\"1\" class=\"dataframe\">\n",
       "  <thead>\n",
       "    <tr style=\"text-align: right;\">\n",
       "      <th></th>\n",
       "      <th>Year</th>\n",
       "      <th>State</th>\n",
       "      <th>Pop</th>\n",
       "      <th>Debt</th>\n",
       "    </tr>\n",
       "  </thead>\n",
       "  <tbody>\n",
       "    <tr>\n",
       "      <th>1st</th>\n",
       "      <td>2000</td>\n",
       "      <td>Ohio</td>\n",
       "      <td>1.5</td>\n",
       "      <td>NaN</td>\n",
       "    </tr>\n",
       "    <tr>\n",
       "      <th>2nd</th>\n",
       "      <td>2001</td>\n",
       "      <td>Ohio</td>\n",
       "      <td>1.7</td>\n",
       "      <td>NaN</td>\n",
       "    </tr>\n",
       "    <tr>\n",
       "      <th>3rd</th>\n",
       "      <td>2002</td>\n",
       "      <td>Ohio</td>\n",
       "      <td>3.6</td>\n",
       "      <td>NaN</td>\n",
       "    </tr>\n",
       "    <tr>\n",
       "      <th>4th</th>\n",
       "      <td>2001</td>\n",
       "      <td>Nevada</td>\n",
       "      <td>2.4</td>\n",
       "      <td>NaN</td>\n",
       "    </tr>\n",
       "    <tr>\n",
       "      <th>5th</th>\n",
       "      <td>2002</td>\n",
       "      <td>Nevada</td>\n",
       "      <td>2.9</td>\n",
       "      <td>NaN</td>\n",
       "    </tr>\n",
       "    <tr>\n",
       "      <th>6th</th>\n",
       "      <td>2003</td>\n",
       "      <td>Nevada</td>\n",
       "      <td>3.2</td>\n",
       "      <td>NaN</td>\n",
       "    </tr>\n",
       "  </tbody>\n",
       "</table>\n",
       "</div>"
      ],
      "text/plain": [
       "     Year   State  Pop  Debt\n",
       "1st  2000    Ohio  1.5   NaN\n",
       "2nd  2001    Ohio  1.7   NaN\n",
       "3rd  2002    Ohio  3.6   NaN\n",
       "4th  2001  Nevada  2.4   NaN\n",
       "5th  2002  Nevada  2.9   NaN\n",
       "6th  2003  Nevada  3.2   NaN"
      ]
     },
     "execution_count": 49,
     "metadata": {},
     "output_type": "execute_result"
    }
   ],
   "source": [
    "val = pd.Series([-1.2, -1.5, -1.7, -1.2, -1.5, -1.7, 2.2  ], index = ['Zero', 'two','three','four','five','six','seven'])\n",
    "frame2['Debt']= val\n",
    "frame2"
   ]
  },
  {
   "cell_type": "code",
   "execution_count": 52,
   "metadata": {},
   "outputs": [
    {
     "data": {
      "text/html": [
       "<div>\n",
       "<style scoped>\n",
       "    .dataframe tbody tr th:only-of-type {\n",
       "        vertical-align: middle;\n",
       "    }\n",
       "\n",
       "    .dataframe tbody tr th {\n",
       "        vertical-align: top;\n",
       "    }\n",
       "\n",
       "    .dataframe thead th {\n",
       "        text-align: right;\n",
       "    }\n",
       "</style>\n",
       "<table border=\"1\" class=\"dataframe\">\n",
       "  <thead>\n",
       "    <tr style=\"text-align: right;\">\n",
       "      <th></th>\n",
       "      <th>Year</th>\n",
       "      <th>State</th>\n",
       "      <th>Pop</th>\n",
       "      <th>Debt</th>\n",
       "    </tr>\n",
       "  </thead>\n",
       "  <tbody>\n",
       "    <tr>\n",
       "      <th>1st</th>\n",
       "      <td>2000</td>\n",
       "      <td>Ohio</td>\n",
       "      <td>1.5</td>\n",
       "      <td>-1.2</td>\n",
       "    </tr>\n",
       "    <tr>\n",
       "      <th>2nd</th>\n",
       "      <td>2001</td>\n",
       "      <td>Ohio</td>\n",
       "      <td>1.7</td>\n",
       "      <td>-1.5</td>\n",
       "    </tr>\n",
       "    <tr>\n",
       "      <th>3rd</th>\n",
       "      <td>2002</td>\n",
       "      <td>Ohio</td>\n",
       "      <td>3.6</td>\n",
       "      <td>-1.7</td>\n",
       "    </tr>\n",
       "    <tr>\n",
       "      <th>4th</th>\n",
       "      <td>2001</td>\n",
       "      <td>Nevada</td>\n",
       "      <td>2.4</td>\n",
       "      <td>-1.2</td>\n",
       "    </tr>\n",
       "    <tr>\n",
       "      <th>5th</th>\n",
       "      <td>2002</td>\n",
       "      <td>Nevada</td>\n",
       "      <td>2.9</td>\n",
       "      <td>-1.5</td>\n",
       "    </tr>\n",
       "    <tr>\n",
       "      <th>6th</th>\n",
       "      <td>2003</td>\n",
       "      <td>Nevada</td>\n",
       "      <td>3.2</td>\n",
       "      <td>-1.7</td>\n",
       "    </tr>\n",
       "  </tbody>\n",
       "</table>\n",
       "</div>"
      ],
      "text/plain": [
       "     Year   State  Pop  Debt\n",
       "1st  2000    Ohio  1.5  -1.2\n",
       "2nd  2001    Ohio  1.7  -1.5\n",
       "3rd  2002    Ohio  3.6  -1.7\n",
       "4th  2001  Nevada  2.4  -1.2\n",
       "5th  2002  Nevada  2.9  -1.5\n",
       "6th  2003  Nevada  3.2  -1.7"
      ]
     },
     "execution_count": 52,
     "metadata": {},
     "output_type": "execute_result"
    }
   ],
   "source": [
    "val = pd.Series([-1.2, -1.5, -1.7, -1.2, -1.5, -1.7  ], index = ['1st','2nd','3rd','4th','5th','6th'])\n",
    "frame2['Debt']= val\n",
    "frame2"
   ]
  },
  {
   "cell_type": "markdown",
   "metadata": {},
   "source": [
    "# Function Application and Mapping"
   ]
  },
  {
   "cell_type": "code",
   "execution_count": 4,
   "metadata": {},
   "outputs": [
    {
     "name": "stdout",
     "output_type": "stream",
     "text": [
      "               b         d         e\n",
      "Utah    0.721181  0.245817  0.811022\n",
      "Ohio    0.379168  0.021967  0.559008\n",
      "Texas   0.837095  0.449108  0.374742\n",
      "Oregon  0.654693  0.012437  0.795827\n",
      "0.43667062946838753\n",
      "            b         d         e\n",
      "max  0.837095  0.449108  0.811022\n",
      "min  0.379168  0.012437  0.374742 <class 'pandas.core.frame.DataFrame'>\n"
     ]
    }
   ],
   "source": [
    "import numpy as np\n",
    "frame = frame = pd.DataFrame(np.random.rand(4,3), \n",
    "                             columns= list('bde'),\n",
    "                            index =['Utah','Ohio','Texas', 'Oregon'])\n",
    "print(frame)\n",
    "#print(np.abs(frame)) #abs make negative values positive\n",
    "#print(frame[\"d\"].min())\n",
    "#print(frame[\"d\"].max())\n",
    "print(frame[\"d\"].max() - frame[\"d\"].min())\n",
    "\n",
    "def min_max(x):\n",
    "    minimum = x.min()\n",
    "    maximum = x.max()\n",
    "    return pd.Series([maximum, minimum], index = ['max', 'min'])\n",
    "df = frame.apply(min_max)\n",
    "print(df, type(df))"
   ]
  },
  {
   "cell_type": "code",
   "execution_count": 15,
   "metadata": {},
   "outputs": [
    {
     "name": "stdout",
     "output_type": "stream",
     "text": [
      "       d  a  b  c\n",
      "three  0  1  2  3\n",
      "one    4  5  6  7\n",
      "\n",
      "       d  c  b  a\n",
      "three  0  3  2  1\n",
      "one    4  7  6  5\n",
      "\n",
      "       d  a  b  c\n",
      "one    4  5  6  7\n",
      "three  0  1  2  3\n"
     ]
    }
   ],
   "source": [
    "#Sorting and Ranking\n",
    "frame = pd.DataFrame(np.arange(8).reshape((2,4)),\n",
    "                     index=['three','one'],\n",
    "                    columns= ['d','a','b','c'])\n",
    "print(frame)\n",
    "print()\n",
    "print(frame.sort_index(axis = 1, ascending = False))\n",
    "print()\n",
    "print(frame.sort_index())"
   ]
  },
  {
   "cell_type": "code",
   "execution_count": 21,
   "metadata": {},
   "outputs": [
    {
     "name": "stdout",
     "output_type": "stream",
     "text": [
      "               b         d         e\n",
      "Utah    0.436486  0.990380  0.710527\n",
      "Ohio    0.096931  0.639986  0.256845\n",
      "Texas   0.184483  0.749807  0.777968\n",
      "Oregon  0.986059  0.054429  0.008083\n",
      "          b    d    e\n",
      "Utah    2.0  1.0  2.0\n",
      "Ohio    4.0  3.0  3.0\n",
      "Texas   3.0  2.0  1.0\n",
      "Oregon  1.0  4.0  4.0\n",
      "          b    d    e\n",
      "Utah    3.0  4.0  3.0\n",
      "Ohio    1.0  2.0  2.0\n",
      "Texas   2.0  3.0  4.0\n",
      "Oregon  4.0  1.0  1.0\n",
      "          b    d    e\n",
      "Utah    1.0  3.0  2.0\n",
      "Ohio    1.0  3.0  2.0\n",
      "Texas   1.0  2.0  3.0\n",
      "Oregon  3.0  2.0  1.0\n"
     ]
    }
   ],
   "source": [
    "# sort by values\n",
    "#learn from book \n",
    "frame = frame = pd.DataFrame(np.random.rand(4,3), \n",
    "                             columns= list('bde'),\n",
    "                            index =['Utah','Ohio','Texas', 'Oregon'])\n",
    "print(frame)\n",
    "#print( frame.sort_values(by = 'd'))\n",
    "print(frame.rank(ascending = False, method = 'max'))\n",
    "print(frame.rank(ascending = True, method = 'min'))\n",
    "print( frame.rank(axis = 'columns'))"
   ]
  },
  {
   "cell_type": "code",
   "execution_count": 23,
   "metadata": {},
   "outputs": [
    {
     "name": "stdout",
     "output_type": "stream",
     "text": [
      "    one  two  three\n",
      "a  1.40  NaN    NaN\n",
      "b  7.10 -4.5    NaN\n",
      "c   NaN  NaN    NaN\n",
      "d  0.75 -1.3    NaN\n",
      "\n",
      "one      9.25\n",
      "two     -5.80\n",
      "three    0.00\n",
      "dtype: float64\n",
      "\n",
      "a    1.40\n",
      "b    2.60\n",
      "c    0.00\n",
      "d   -0.55\n",
      "dtype: float64\n"
     ]
    }
   ],
   "source": [
    "df = pd.DataFrame([\n",
    "    [1.4,np.nan], [7.1, -4.5],\n",
    "    [np.nan,np.nan,np.nan],[0.75, -1.3]],\n",
    "     index = ['a','b','c','d'],\n",
    "    columns= ['one','two','three'])\n",
    "print(df)\n",
    "print()\n",
    "print(df.sum())\n",
    "print()\n",
    "print(df.sum(axis = 'columns'))"
   ]
  },
  {
   "cell_type": "code",
   "execution_count": 126,
   "metadata": {},
   "outputs": [
    {
     "name": "stdout",
     "output_type": "stream",
     "text": [
      "    one  two  three\n",
      "a  1.40  NaN    NaN\n",
      "b  7.10 -4.5    NaN\n",
      "c   NaN  NaN    NaN\n",
      "d  0.75 -1.3    NaN\n",
      "\n",
      "a   NaN\n",
      "b   NaN\n",
      "c   NaN\n",
      "d   NaN\n",
      "dtype: float64\n"
     ]
    }
   ],
   "source": [
    "print(df)\n",
    "x = df.mean(axis = 'columns', skipna = False) #skipna ko true kr k NAn values neglect kr sakta hai\n",
    "print()\n",
    "print(x)"
   ]
  },
  {
   "cell_type": "code",
   "execution_count": 26,
   "metadata": {},
   "outputs": [
    {
     "name": "stdout",
     "output_type": "stream",
     "text": [
      "    one  two  three\n",
      "a  1.40  1.4    NaN\n",
      "b  7.10  1.4    NaN\n",
      "c   NaN  NaN    NaN\n",
      "d  0.75 -1.3    NaN\n",
      "\n",
      "[1.4  7.1   nan 0.75] [ 1.4  nan -1.3]\n"
     ]
    },
    {
     "data": {
      "text/plain": [
       "0.75    1\n",
       "1.40    1\n",
       "7.10    1\n",
       "Name: one, dtype: int64"
      ]
     },
     "execution_count": 26,
     "metadata": {},
     "output_type": "execute_result"
    }
   ],
   "source": [
    "df = pd.DataFrame([\n",
    "    [1.4,1.4], [7.1, 1.4],\n",
    "    [np.nan,np.nan,np.nan],[0.75, -1.3]],\n",
    "     index = ['a','b','c','d'],\n",
    "    columns= ['one','two','three'])\n",
    "print(df)\n",
    "print()\n",
    "print(df['one'].unique(), df['two'].unique())\n",
    "df['one'].value_counts()"
   ]
  },
  {
   "cell_type": "code",
   "execution_count": 29,
   "metadata": {},
   "outputs": [
    {
     "name": "stdout",
     "output_type": "stream",
     "text": [
      "          one  two  three  four\n",
      "Ohio        0    1      2     3\n",
      "Colorado    4    5      6     7\n",
      "Utah        8    9     10    11\n",
      "New York   12   13     14    15 \n",
      "\n",
      "four     11\n",
      "three    10\n",
      "one       8\n",
      "Name: Utah, dtype: int32\n"
     ]
    }
   ],
   "source": [
    "data_df = pd.DataFrame(np.arange(16).reshape((4 ,4)),\n",
    "                      index = ['Ohio','Colorado','Utah','New York'],\n",
    "                      columns=['one','two','three','four'])\n",
    "print(data_df, \"\\n\")\n",
    "# in the loc method specify row label first then specify column names\n",
    "#multiple column names require array notation\n",
    "#print( data_df.loc[['Colorado','Ohio'],['two','three']])\n",
    "#print(\"\\n\")\n",
    "print(data_df.iloc[2,[3,2,0]]) # using number intead of labels\n",
    "#print(data_df.iloc[:])\n",
    "#print(data_df.one[2:])\n",
    "#print(data_df.iloc[:,:3])\n",
    "#print(data_df.iloc[:2])\n",
    "#[data_df.three > 5]\n",
    "#df2 = data_df[\"three\"] > 5 \n",
    "#print(df2)\n",
    "#print(data_df[df2])\n",
    "#print(data_df.three[data_df['three']> 7])"
   ]
  },
  {
   "cell_type": "markdown",
   "metadata": {},
   "source": [
    "# Arithmetic and Data Alignment"
   ]
  },
  {
   "cell_type": "code",
   "execution_count": 30,
   "metadata": {},
   "outputs": [
    {
     "name": "stdout",
     "output_type": "stream",
     "text": [
      "            b    c    d\n",
      "Ohio      0.0  1.0  2.0\n",
      "Texas     3.0  4.0  5.0\n",
      "Colorado  6.0  7.0  8.0\n",
      "          b     d     e\n",
      "Utah    0.0   1.0   2.0\n",
      "Ohio    3.0   4.0   5.0\n",
      "Texas   6.0   7.0   8.0\n",
      "Oregon  9.0  10.0  11.0\n",
      "\n",
      "\n",
      "Direct + opteration without fill value\n",
      "            b   c     d   e\n",
      "Colorado  NaN NaN   NaN NaN\n",
      "Ohio      3.0 NaN   6.0 NaN\n",
      "Oregon    NaN NaN   NaN NaN\n",
      "Texas     9.0 NaN  12.0 NaN\n",
      "Utah      NaN NaN   NaN NaN\n",
      "------------------\n",
      "\n",
      "addition using a method with replacing Nan with 0 \n",
      "             b    c     d   e\n",
      "Colorado   6.0  7.0   8.0 NaN\n",
      "Ohio       3.0  1.0   8.0 NaN\n",
      "Oregon     NaN  NaN   NaN NaN\n",
      "Texas     12.0  4.0  17.0 NaN\n",
      "Utah       NaN  NaN   NaN NaN\n"
     ]
    }
   ],
   "source": [
    "df1 = pd.DataFrame(np.arange(9.).reshape((3,3)),\n",
    "                  columns=list('bcd'),\n",
    "                  index =['Ohio','Texas', 'Colorado'])\n",
    "df2 = pd.DataFrame(np.arange(12.).reshape((4,3)),\n",
    "                  columns=list('bde'),\n",
    "                  index=['Utah','Ohio','Texas','Oregon'])\n",
    "print(df1)\n",
    "print(df2)\n",
    "print()\n",
    "#when we add two dataframe index should be match and if it does not match then it will show us Nan\n",
    "#adding two dataframes\n",
    "df3 = df1 + df2\n",
    "df4 = df1 - df2\n",
    "print()\n",
    "print(\"Direct + opteration without fill value\")\n",
    "print(df3)\n",
    "#your work is to fill all Nan values of this df3 with a number,\n",
    "#choice of number is yours\n",
    "print(\"------------------\")\n",
    "print()\n",
    "#we can use add method for filling Nan cells with a value \n",
    "#Nan will be replaced by 0 and then addition operation will apply\n",
    "\n",
    "print(\"addition using a method with replacing Nan with 0 \")\n",
    "df3 = df1.add(df3, fill_value = 0)\n",
    "print(df3)"
   ]
  },
  {
   "cell_type": "code",
   "execution_count": 32,
   "metadata": {},
   "outputs": [
    {
     "name": "stdout",
     "output_type": "stream",
     "text": [
      "\n",
      "\n",
      "Direct + opteration without fill value\n",
      "      a     b     c     d   e\n",
      "0   0.0   2.0   4.0   6.0 NaN\n",
      "1   9.0  11.0  13.0  15.0 NaN\n",
      "2  18.0  20.0  22.0  24.0 NaN\n",
      "3   NaN   NaN   NaN   NaN NaN\n",
      "------------------\n",
      "\n",
      "addition using a method with replacing Nan with 0 \n",
      "      a     b     c     d     e\n",
      "0   0.0   2.0   4.0   6.0   4.0\n",
      "1   9.0  11.0  13.0  15.0   9.0\n",
      "2  18.0  20.0  22.0  24.0  14.0\n",
      "3  15.0  16.0  17.0  18.0  19.0\n"
     ]
    }
   ],
   "source": [
    "df1=pd.DataFrame(np.arange(12.).reshape((3,4)),\n",
    "                  columns=list('abcd'))\n",
    "df2 = pd.DataFrame(np.arange(20.).reshape((4,5)),\n",
    "                  columns=list('abcde'))\n",
    "#print(df1)\n",
    "#print(df2)\n",
    "print()\n",
    "#when we add two dataframe index should be match and if it does not match then it will show us Nan\n",
    "#adding two dataframes\n",
    "df3 = df1 + df2\n",
    "df4 = df1 - df2\n",
    "print()\n",
    "print(\"Direct + opteration without fill value\")\n",
    "print(df3)\n",
    "#your work is to fill all Nan values of this df3 with a number,\n",
    "#choice of number is yours\n",
    "print(\"------------------\")\n",
    "print()\n",
    "#we can use add method for filling Nan cells with a value \n",
    "#Nan will be replaced by 0 and then addition operation will apply\n",
    "\n",
    "print(\"addition using a method with replacing Nan with 0 \")\n",
    "df3 = df1.add(df2, fill_value = 0)\n",
    "print(df3)"
   ]
  },
  {
   "cell_type": "markdown",
   "metadata": {},
   "source": [
    "# Operation between DataFrame and Series"
   ]
  },
  {
   "cell_type": "code",
   "execution_count": 56,
   "metadata": {},
   "outputs": [
    {
     "name": "stdout",
     "output_type": "stream",
     "text": [
      "          b     d     e\n",
      "Utah    0.0   1.0   2.0\n",
      "Ohio    3.0   4.0   5.0\n",
      "Texas   6.0   7.0   8.0\n",
      "Oregon  9.0  10.0  11.0\n",
      "b    0.0\n",
      "d    1.0\n",
      "e    2.0\n",
      "Name: Utah, dtype: float64\n",
      "[0. 1. 2.]\n",
      "----------using new series\n",
      "Index(['b', 'd', 'e'], dtype='object') [1 2 3]\n",
      "          b    d    e\n",
      "Utah   -1.0 -1.0 -1.0\n",
      "Ohio    2.0  2.0  2.0\n",
      "Texas   5.0  5.0  5.0\n",
      "Oregon  8.0  8.0  8.0\n"
     ]
    }
   ],
   "source": [
    "frame = pd.DataFrame(np.arange(12.).reshape((4,3)),\n",
    "                    columns=list('bde'),\n",
    "                    index = ['Utah', 'Ohio','Texas', 'Oregon'])\n",
    "#iloc syntax \n",
    "#iloc[start_row_positon:end_row_pos, start_column_pos:end_col_position]\n",
    "series = frame.iloc[0]\n",
    "print(frame)\n",
    "print(series)\n",
    "print(series.values)\n",
    "#print(series.index)\n",
    "#print(frame - series)\n",
    "#step 1: run above commands after uncomment\n",
    "#step 2: comment above prints except the line contains print(frame)\n",
    "#write following lines\n",
    "print(\"----------using new series\")\n",
    "series = pd.Series([1,2,3], index = list('bde'))\n",
    "print(series.index, series.values)\n",
    "print(frame - series)\n",
    "#dataframe column names will be match with series index\n",
    "#because its rows wise broadcasting operation"
   ]
  },
  {
   "cell_type": "code",
   "execution_count": 75,
   "metadata": {},
   "outputs": [
    {
     "name": "stdout",
     "output_type": "stream",
     "text": [
      "          one  two  three  four\n",
      "Ohio        0    1      2     3\n",
      "colorado    4    5      6     7\n",
      "Utah        8    9     10    11\n",
      "New York   12   13     14    15 \n",
      "\n",
      "          one  three  four\n",
      "Ohio        0      2     3\n",
      "colorado    4      6     7\n",
      "Utah        8     10    11\n",
      "New York   12     14    15\n"
     ]
    }
   ],
   "source": [
    " df2 = pd.DataFrame(np.arange(16).reshape((4,4)),\n",
    "                   index = [\"Ohio\",\"colorado\",\"Utah\",\"New York\"],\n",
    "                  columns=['one','two','three','four'])\n",
    "print(df2,\"\\n\")\n",
    "#dataframe.drop method would return a new dataframe without having\n",
    "#delete rows. so store its into to dataframe variable\n",
    "# or use inplace = True while dropping rows or column\n",
    "\n",
    "#df2.drop(['colorado','Ohio'], inplace = True)\n",
    "#print(df2)\n",
    "\n",
    "#you can drop values from the columns by passing axis = 1\n",
    "#df2 = df2.drop('two', axis = 1)\n",
    "#if i want to rremove a row then axis should be 0 axis = 0\n",
    "df2.drop('two', axis = 1, inplace = True)\n",
    "print(df2)"
   ]
  },
  {
   "cell_type": "markdown",
   "metadata": {},
   "source": [
    "# Indexing, Selection and Filtering"
   ]
  },
  {
   "cell_type": "code",
   "execution_count": 82,
   "metadata": {},
   "outputs": [
    {
     "name": "stdout",
     "output_type": "stream",
     "text": [
      "          one  two  three  four\n",
      "Ohio        0    1      2     3\n",
      "colorado    4    5      6     7\n",
      "Utah        8    9     10    11\n",
      "New York   12   13     14    15 \n",
      "\n",
      "Ohio        False\n",
      "colorado     True\n",
      "Utah         True\n",
      "New York     True\n",
      "Name: three, dtype: bool\n",
      "          one  two  three  four\n",
      "colorado    4    5      6     7\n",
      "Utah        8    9     10    11\n",
      "New York   12   13     14    15\n"
     ]
    }
   ],
   "source": [
    "data_df = pd.DataFrame(np.arange(16).reshape((4,4)),\n",
    "                   index = [\"Ohio\",\"colorado\",\"Utah\",\"New York\"],\n",
    "                  columns=['one','two','three','four'])\n",
    "print(data_df, \"\\n\")\n",
    "#print(data_df[[\"one\",\"three\"]])\n",
    "#print(data_df[2:])\n",
    "#print(data_df[:2])\n",
    "\n",
    "#conditional Selection\n",
    "#print(data_df[data_df['three'] > 5])\n",
    "#print(data_df,\"\\n\")\n",
    "df2 = data_df['three'] > 5\n",
    "print(df2)\n",
    "print(data_df[data_df[\"three\"] > 5])\n"
   ]
  },
  {
   "cell_type": "code",
   "execution_count": 203,
   "metadata": {},
   "outputs": [],
   "source": [
    "#Mind Teaser !!\n",
    "#Assigning a column that alreay exist will __________ and \n",
    "# assigning a column that does not exist ___________"
   ]
  },
  {
   "cell_type": "markdown",
   "metadata": {},
   "source": [
    "# Reindex"
   ]
  },
  {
   "cell_type": "code",
   "execution_count": 227,
   "metadata": {},
   "outputs": [
    {
     "name": "stdout",
     "output_type": "stream",
     "text": [
      "0      blue\n",
      "3    purple\n",
      "6    Yellow\n",
      "dtype: object\n"
     ]
    },
    {
     "data": {
      "text/plain": [
       "0       blue\n",
       "1       blue\n",
       "2       blue\n",
       "3     purple\n",
       "4     purple\n",
       "5     purple\n",
       "6     Yellow\n",
       "7     Yellow\n",
       "8     Yellow\n",
       "9     Yellow\n",
       "10    Yellow\n",
       "11    Yellow\n",
       "dtype: object"
      ]
     },
     "execution_count": 227,
     "metadata": {},
     "output_type": "execute_result"
    }
   ],
   "source": [
    "obj3 = pd.Series(['blue','purple','Yellow'], index = [0,3,6])\n",
    "print(obj3)\n",
    "#might create a new rows\n",
    "obj3 = obj3.reindex(range(9), method = 'ffill') #ffill is fill forward\n",
    "#obj3\n",
    "obj3 = obj3.reindex(range(12), method = 'ffill')  #ffill is fill forward\n",
    "obj3"
   ]
  },
  {
   "cell_type": "code",
   "execution_count": 84,
   "metadata": {},
   "outputs": [
    {
     "name": "stdout",
     "output_type": "stream",
     "text": [
      "   Ohio  Texas  California\n",
      "a     0      1           2\n",
      "b     3      4           5\n",
      "c     6      7           8\n",
      "   Ohio  Texas  California\n",
      "a     0      1           2\n",
      "b     3      4           5\n",
      "c     6      7           8\n",
      "d     6      7           8\n"
     ]
    }
   ],
   "source": [
    "states = pd.DataFrame(np.arange(9).reshape((3,3)),\n",
    "                     index =['a','b','c'], \n",
    "                     columns =['Ohio','Texas','California'])\n",
    "print(states)\n",
    "statess = states.reindex(['a','b','c','d'], method = 'ffill')\n",
    "print(statess)"
   ]
  },
  {
   "cell_type": "code",
   "execution_count": 86,
   "metadata": {},
   "outputs": [
    {
     "name": "stdout",
     "output_type": "stream",
     "text": [
      "   Ohio  Texas  California\n",
      "a     0      1           2\n",
      "b     3      4           5\n",
      "c     6      7           8\n",
      "   Ohio  Newyork  California  Texas  Newjersy\n",
      "a     0      100           2      1       100\n",
      "b     3      100           5      4       100\n",
      "c     6      100           8      7       100\n"
     ]
    }
   ],
   "source": [
    "states = pd.DataFrame(np.arange(9).reshape((3,3)),\n",
    "                     index =['a','b','c'], \n",
    "                     columns =['Ohio','Texas','California'])\n",
    "print(states)\n",
    "states_name = ['Texas','Utah','California','Ohio']\n",
    "states1 = states.reindex(columns  = ['Ohio','Newyork','California','Texas','Newjersy'],fill_value = 100)\n",
    "print(states1)"
   ]
  },
  {
   "cell_type": "code",
   "execution_count": null,
   "metadata": {},
   "outputs": [],
   "source": []
  }
 ],
 "metadata": {
  "kernelspec": {
   "display_name": "Python 3",
   "language": "python",
   "name": "python3"
  },
  "language_info": {
   "codemirror_mode": {
    "name": "ipython",
    "version": 3
   },
   "file_extension": ".py",
   "mimetype": "text/x-python",
   "name": "python",
   "nbconvert_exporter": "python",
   "pygments_lexer": "ipython3",
   "version": "3.8.5"
  }
 },
 "nbformat": 4,
 "nbformat_minor": 4
}
